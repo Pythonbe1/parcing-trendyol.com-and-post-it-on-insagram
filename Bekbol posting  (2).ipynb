{
 "cells": [
  {
   "cell_type": "code",
   "execution_count": null,
   "metadata": {},
   "outputs": [],
   "source": [
    "#Library \n",
    "from bs4 import BeautifulSoup\n",
    "from datetime import date\n",
    "from selenium import webdriver\n",
    "from selenium.webdriver.common.keys import Keys\n",
    "import time\n",
    "from selenium.common.exceptions import ElementClickInterceptedException\n",
    "from selenium.common.exceptions import NoSuchElementException\n",
    "import pandas as pd\n",
    "from selenium.webdriver.chrome.options import Options\n",
    "import os\n",
    "import shutil\n",
    "import urllib.request\n",
    "import pandas as pd\n",
    "import PIL\n",
    "from PIL import Image\n",
    "from instabot import Bot"
   ]
  },
  {
   "cell_type": "code",
   "execution_count": null,
   "metadata": {},
   "outputs": [],
   "source": [
    "def resize(image_pil):\n",
    "    '''\n",
    "    Resize PIL image keeping ratio and using white background.\n",
    "    '''\n",
    "\n",
    "    image_pil = (Image.open(image_pil, 'r')) #Usar a diretoria como stuff\n",
    "    width = 1080\n",
    "    height = 1080\n",
    "\n",
    "    ratio_w = width / image_pil.width\n",
    "    ratio_h = height / image_pil.height\n",
    "    if ratio_w < ratio_h:\n",
    "        # It must be fixed by width\n",
    "        resize_width = width\n",
    "        resize_height = round(ratio_w * image_pil.height)\n",
    "    else:\n",
    "        # Fixed by height\n",
    "        resize_width = round(ratio_h * image_pil.width)\n",
    "        resize_height = height\n",
    "    image_resize = image_pil.resize((resize_width, resize_height), Image.ANTIALIAS)\n",
    "    background = Image.new('RGBA', (width, height), (255, 255, 255, 255))\n",
    "    offset = (round((width - resize_width) / 2), round((height - resize_height) / 2))\n",
    "    background.paste(image_resize, offset)\n",
    "    return background.convert('RGB')"
   ]
  },
  {
   "cell_type": "code",
   "execution_count": null,
   "metadata": {},
   "outputs": [],
   "source": [
    "options = Options()\n",
    "options.add_argument(\"--disable-notifications\")\n",
    "driver = webdriver.Chrome(executable_path='C:\\\\Users\\\\svnduw\\\\.wdm\\\\drivers\\\\chromedriver\\\\win32\\\\93.0.4577.15\\\\chromedriver.exe', chrome_options=options)"
   ]
  },
  {
   "cell_type": "code",
   "execution_count": null,
   "metadata": {},
   "outputs": [],
   "source": [
    "import pandas as pd\n",
    "folder=pd.read_excel(r'C:\\Users\\svnduw\\Desktop\\Bekbol\\Bekbol project\\Bekbol\\Urls\\20.10.2021.xlsx')"
   ]
  },
  {
   "cell_type": "code",
   "execution_count": null,
   "metadata": {},
   "outputs": [],
   "source": [
    "urls=folder['urls'].tolist()"
   ]
  },
  {
   "cell_type": "code",
   "execution_count": null,
   "metadata": {},
   "outputs": [],
   "source": [
    "name=[]\n",
    "img_folder=[]\n",
    "price=[]\n",
    "link=[]\n",
    "for i in range(len(urls)):\n",
    "    try:\n",
    "        driver.get(str(urls[i]))\n",
    "        time.sleep(2)\n",
    "       # pages=driver.find_elements_by_class_name('p-card-wrppr')\n",
    "       # pages[i].click()   \n",
    "                                      \n",
    "        #main_page = driver.current_window_handle\n",
    "        \n",
    "        temp=[]\n",
    "       # for handle in driver.window_handles:\n",
    "           # if handle != main_page:\n",
    "               # additional_page = handle\n",
    "        #driver.switch_to.window(additional_page)\n",
    "        link.append(driver.current_url)\n",
    "        html = driver.page_source\n",
    "        soup = BeautifulSoup(html,\"html.parser\")\n",
    "        time.sleep(2)\n",
    "        for tag in soup.find_all(class_=\"pr-new-br\"):\n",
    "            name.append(tag.text)        \n",
    "        for tag in soup.find_all(class_=\"prc-slg\") :            \n",
    "            temp.append(tag.text)\n",
    "        price.append(temp[0])\n",
    "        #for tag in soup.find_all(class_=\"prc-slg\") : \n",
    "            #price.append(tag.text)\n",
    "        img=[]\n",
    "        for a in soup.find_all(class_=\"product-slide\"):            \n",
    "            if a.img:\n",
    "                img.append(a.img['src'])\n",
    "        img_len=len(img)\n",
    "        if img_len>0:\n",
    "            for i in range(len(img)):\n",
    "                img[i]='/'.join(img[i].split('/')[0:3])+'/'+'/'.join(img[i].split('/')[6:])\n",
    "            for j in range(len(img)):\n",
    "                urllib.request.urlretrieve(img[j], r'C:\\Users\\svnduw\\Desktop\\Bekbol\\Bekbol project\\Bekbol\\Images\\20.10.2021\\\\'+str(img[j].split('/')[10])+'_'+str(j)+'.jpg')\n",
    "            img_folder.append(img[0].split('/')[10])\n",
    "        elif(img_len==0):\n",
    "            for a in soup.find_all(class_=\"base-product-image\"):\n",
    "                if a.img:\n",
    "                    img.append(a.img['src'])\n",
    "            for j in range(len(img)):\n",
    "                urllib.request.urlretrieve(img[j], r'C:\\Users\\svnduw\\Desktop\\Bekbol\\Bekbol project\\Bekbol\\Images\\20.10.2021\\\\'+str(img[j].split('/')[10])+'_'+'.jpg')\n",
    "\n",
    "            img_folder.append(img[0].split('/')[10])           \n",
    "            \n",
    "        #driver.close()        \n",
    "        #driver.switch_to.window(main_page)        \n",
    "    except ElementClickInterceptedException:        \n",
    "        driver.refresh()\n",
    "    except NoSuchElementException:          \n",
    "        driver.refresh()  \n",
    "driver.close()"
   ]
  },
  {
   "cell_type": "code",
   "execution_count": null,
   "metadata": {},
   "outputs": [],
   "source": [
    "today = date.today()\n",
    "category=['Часы']*len(name)\n",
    "d1 = today.strftime(\"%d/%m/%Y\")\n",
    "d = {'Дата':d1, 'Категория':category, 'Название':name, 'Цена(Лира)':price, 'Cсылка на фото':img_folder,'Ссылка':link}\n",
    "df=pd.DataFrame(d)\n",
    "df['Цена(Лира)']=df['Цена(Лира)'].map(lambda x: x.rstrip(' TL'))\n",
    "df=df.applymap(lambda x: str(x.replace(',','.')))\n",
    "df['Цена(Лира)']=df['Цена(Лира)'].astype(float)"
   ]
  },
  {
   "cell_type": "code",
   "execution_count": null,
   "metadata": {},
   "outputs": [],
   "source": [
    "df.at[6, 'Цена(Лира)'] = 300\n"
   ]
  },
  {
   "cell_type": "code",
   "execution_count": null,
   "metadata": {},
   "outputs": [],
   "source": [
    "df"
   ]
  },
  {
   "cell_type": "code",
   "execution_count": null,
   "metadata": {},
   "outputs": [],
   "source": [
    "df['Cсылка на фото'].nunique()"
   ]
  },
  {
   "cell_type": "code",
   "execution_count": null,
   "metadata": {},
   "outputs": [],
   "source": [
    "driver = webdriver.Chrome(executable_path='C:\\\\Users\\\\svnduw\\\\.wdm\\\\drivers\\\\chromedriver\\\\win32\\\\93.0.4577.15\\\\chromedriver.exe')\n",
    "driver.get(\"https://www.xe.com/currencyconverter/convert/?Amount=1&From=TRY&To=KZT\")\n",
    "time.sleep(2)\n",
    "html = driver.page_source\n",
    "soup = BeautifulSoup(html,\"html.parser\")\n",
    "for tag in soup.find_all(class_=\"result__BigRate-sc-1bsijpp-1 iGrAod\"):\n",
    "    currency=tag.text.split(' ')[0]\n",
    "driver.close()\n",
    "currency=float(currency)"
   ]
  },
  {
   "cell_type": "code",
   "execution_count": null,
   "metadata": {},
   "outputs": [],
   "source": [
    "currency"
   ]
  },
  {
   "cell_type": "code",
   "execution_count": null,
   "metadata": {},
   "outputs": [],
   "source": [
    "df['Цена(kzt)']=(df['Цена(Лира)']*currency).round()\n",
    "df['Доставка за 1 кг']=6000\n",
    "df['Цена на Instagram']=(df['Цена(kzt)']*2+df['Доставка за 1 кг']).astype(int).round(-2)\n",
    "df['Profit']=(df['Цена на Instagram']-(df['Цена(kzt)']+df['Доставка за 1 кг'])).astype(int)"
   ]
  },
  {
   "cell_type": "code",
   "execution_count": null,
   "metadata": {},
   "outputs": [],
   "source": [
    "df"
   ]
  },
  {
   "cell_type": "code",
   "execution_count": null,
   "metadata": {},
   "outputs": [],
   "source": [
    "photo_list=df['Cсылка на фото'].tolist()\n",
    "name_list=df['Название'].tolist()\n",
    "price_list=df['Цена на Instagram'].tolist()"
   ]
  },
  {
   "cell_type": "code",
   "execution_count": null,
   "metadata": {},
   "outputs": [],
   "source": [
    "path=r'C:\\Users\\svnduw\\Desktop\\Bekbol\\Bekbol project\\Bekbol\\Images\\20.10.2021'\n",
    "new_path=r'C:\\Users\\svnduw\\Desktop\\Bekbol\\Bekbol project\\Bekbol\\Resized\\20.10.2021'\n",
    "files=os.listdir(path)\n",
    "for file in files:\n",
    "    resize(path+'\\\\'+file).save(new_path+'\\\\'+file)"
   ]
  },
  {
   "cell_type": "code",
   "execution_count": null,
   "metadata": {},
   "outputs": [],
   "source": [
    "import os\n",
    "path=r'C:\\Users\\svnduw\\Desktop\\Bekbol\\Bekbol project\\Bekbol\\Resized\\20.10.2021'\n",
    "files = os.listdir(path)\n",
    "from instagrapi import Client\n",
    "Username='qyran_watches'\n",
    "Password='****'\n",
    "bot = Client()\n",
    "bot.login(Username, Password)\n",
    "for j in range(len(photo_list)):\n",
    "    new=[]\n",
    "    for i in files:\n",
    "        if photo_list[j]==i.split('_')[0]:\n",
    "            new.append('C:\\\\Users\\\\svnduw\\\\Desktop\\\\Bekbol\\\\Bekbol project\\\\Bekbol\\\\Resized\\\\20.10.2021\\\\'+str(i))\n",
    "            time.sleep(2)\n",
    "    img_leng=len(new)\n",
    "    if img_leng!=1:\n",
    "        text = '⌚ '+str(name_list[j].split(' ')[0])+'\\n 🔴 Производство: Турция \\n 💵 Цена: '+str(price_list[j])+'\\n ♻️ Для заказа можете написать нам по прямой ссылке в шапке профиля \\n 📲 8 707 946 6496 \\n 💸Предоплата 50% \\n_____________________ \\n Доставка по всему РК\\n_ _ _ _ _ _ _ _ _ _ _ _ _\\n Наши магазины:\\n @ant_wears - интернет-магазин женской (мусульманской) одежды\\n @gstyle_lady - интернет-магазин женской одежды\\n @social_shoe_store - интернет-магазин обуви\\n @aishoes.kz - интернет-магазин женской обуви\\n @ayalin_kids - интернет-магазин детской одежды\\n @ayamin_bags - интернет-магазин люксовых сумок'\n",
    "        bot.album_upload(\n",
    "        new,\n",
    "        caption = text)\n",
    "    elif img_leng==1:\n",
    "        text = '⌚ '+str(name_list[j].split(' ')[0])+'\\n 🔴 Производство: Турция \\n 💵 Цена: '+str(price_list[j])+'\\n ♻️ Для заказа можете написать нам по прямой ссылке в шапке профиля \\n 📲 8 707 946 6496 \\n 💸Предоплата 50% \\n_____________________ \\n Доставка по всему РК\\n_ _ _ _ _ _ _ _ _ _ _ _ _\\n Наши магазины:\\n @ant_wears - интернет-магазин женской (мусульманской) одежды\\n @gstyle_lady - интернет-магазин женской одежды\\n @social_shoe_store - интернет-магазин обуви\\n @aishoes.kz - интернет-магазин женской обуви\\n @ayalin_kids - интернет-магазин детской одежды\\n @ayamin_bags - интернет-магазин люксовых сумок'\n",
    "        bot.photo_upload(new[0],caption=text)"
   ]
  },
  {
   "cell_type": "code",
   "execution_count": null,
   "metadata": {},
   "outputs": [],
   "source": [
    "excelfilename = today.strftime(\"%B %d,%Y\") +\".xlsx\"\n",
    "df.to_excel(r'C:\\\\Users\\\\svnduw\\\\Desktop\\\\Bekbol\\\\Bekbol project\\\\Bekbol\\\\Report\\\\'+excelfilename)  "
   ]
  },
  {
   "cell_type": "code",
   "execution_count": null,
   "metadata": {},
   "outputs": [],
   "source": [
    "from instagrapi import Client\n",
    "from instagrapi.story import StoryBuilder, StoryMention\n",
    "path=r'C:\\Users\\svnduw\\Desktop\\Bekbol\\Bekbol project\\Bekbol\\Resized\\20.10.2021'\n",
    "files = os.listdir(path)\n",
    "adw0rd = bot.user_info_by_username('qyran_watches')\n",
    "for i in files:\n",
    "    bot.photo_upload_to_story(path+'\\\\'+i,\n",
    "                             \"@qyran_watches\",\n",
    "                             mentions=[StoryMention(user=adw0rd, x=0.49892962, y=0.703125, width=0.8333333333333334, height=0.125)])\n"
   ]
  },
  {
   "cell_type": "code",
   "execution_count": null,
   "metadata": {},
   "outputs": [],
   "source": []
  }
 ],
 "metadata": {
  "kernelspec": {
   "display_name": "Python 3",
   "language": "python",
   "name": "python3"
  },
  "language_info": {
   "codemirror_mode": {
    "name": "ipython",
    "version": 3
   },
   "file_extension": ".py",
   "mimetype": "text/x-python",
   "name": "python",
   "nbconvert_exporter": "python",
   "pygments_lexer": "ipython3",
   "version": "3.8.5"
  }
 },
 "nbformat": 4,
 "nbformat_minor": 4
}
