{
 "cells": [
  {
   "cell_type": "code",
   "execution_count": null,
   "id": "513dfefc",
   "metadata": {},
   "outputs": [],
   "source": [
    "from bs4 import BeautifulSoup\n",
    "from datetime import datetime\n",
    "import time\n",
    "import pandas as pd\n",
    "import os\n",
    "import urllib.request\n",
    "import PIL\n",
    "import requests\n",
    "from PIL import Image\n",
    "from instabot import Bot\n",
    "from selenium import webdriver\n",
    "from selenium.webdriver.common.keys import Keys\n",
    "import time\n",
    "import json\n",
    "import warnings\n",
    "warnings.simplefilter('ignore')\n",
    "from instagrapi import Client\n",
    "from instagrapi.story import StoryBuilder, StoryMention\n",
    "from selenium.webdriver.chrome.options import Options\n",
    "from selenium import webdriver"
   ]
  },
  {
   "cell_type": "code",
   "execution_count": null,
   "id": "b4c6c269",
   "metadata": {},
   "outputs": [],
   "source": [
    "def load_images(link,path):\n",
    "    return urllib.request.urlretrieve(link,f\"{path}\\\\{'_'.join(link.split('/')[10:12])}.jpg\")"
   ]
  },
  {
   "cell_type": "code",
   "execution_count": null,
   "id": "fab81ea9",
   "metadata": {},
   "outputs": [],
   "source": [
    "def get_data(file_path):\n",
    "    result=[]\n",
    "    df=pd.read_excel(file_path)    \n",
    "    folder_name=datetime.today().strftime('%Y-%m-%d')\n",
    "    parent_dir = r\"C:\\Users\\svnduw\\Desktop\\Bekbol\\Bekbol project\\Saat\"  #save path must be changed\n",
    "    path = os.path.join(parent_dir, folder_name)\n",
    "    os.makedirs(path)\n",
    "    driver = webdriver.Chrome(executable_path=r'C:\\Users\\svnduw\\.wdm\\drivers\\chromedriver\\win32\\99.0.4844.51\\\\chromedriver.exe')\n",
    "    for url in df['urls']:        \n",
    "        driver.get(url)        \n",
    "        soup=BeautifulSoup(driver.page_source,'lxml')\n",
    "        \n",
    "        try:\n",
    "            brand=soup.find('h1',class_='pr-new-br').find('a').text.strip()\n",
    "        except:\n",
    "            brand=None\n",
    "        try:\n",
    "            saler=soup.find('div',class_='merchant-box-wrapper').find('a').text.strip()\n",
    "        except:\n",
    "            saler=None\n",
    "        try:\n",
    "            saler_link=f\"https://www.trendyol.com{soup.find('div',class_='merchant-box-wrapper').find('a').get('href')}\"\n",
    "        except:\n",
    "            saler_link=None\n",
    "        try:\n",
    "            prices=soup.find('div',class_='product-price-container').find('div',class_='pr-bx-w').find_all('span')\n",
    "            price_list=[]\n",
    "            image_links=[]\n",
    "            for price in prices:\n",
    "                price_list.append(float(price.text.strip().split()[0].replace(',','.')))\n",
    "        except:\n",
    "            price_list=None\n",
    "        images=soup.find_all('div',class_='product-slide')\n",
    "        if len(images)!=0: \n",
    "            image_folder=str('_'.join(soup.find_all('div',class_='product-slide')[1].find('img').get('src').split('/')[13:14]))\n",
    "            for image in images:\n",
    "                image_links.append('/'.join(image.find('img').get('src').split('/')[:3]+image.find('img').get('src').split('/')[6:]))\n",
    "        else:\n",
    "            image_folder=str('_'.join(soup.find('div',class_='product-container').find('div').find('img').get('src').split('/')[13:14]))\n",
    "            image_links.append('/'.join(soup.find('div',class_='product-container').find('div').find('img').get('src').split('/')[:3]+soup.find('div',class_='product-container').find('div').find('img').get('src').split('/')[6:]))       \n",
    "        for image_link in image_links:\n",
    "            load_images(image_link,path)\n",
    "        result.append({\n",
    "            'brand':brand,\n",
    "            'saler':saler,\n",
    "            'saler_link':saler_link,\n",
    "            'price':price_list,\n",
    "            'image_name':image_folder,\n",
    "            'image_links':image_links,\n",
    "            'page_link':url\n",
    "        })    \n",
    "    df=pd.json_normalize(result)\n",
    "    df['get_price']=df['price'].apply(lambda x: max(x))\n",
    "    lira=get_lira('https://www.xe.com/currencyconverter/convert/?Amount=1&From=TRY&To=KZT')\n",
    "    df['lira_to_kzt']=lira\n",
    "    df['delivery']=6000   #delivery from Turkey to Kazakhstan\n",
    "    df['price_insta']=(df['get_price']*df['lira_to_kzt']*1.4+df['delivery']).round(-3).astype(int)\n",
    "    df['profit']=df['price_insta']-df['get_price']*df['lira_to_kzt']-df['delivery']\n",
    "    file_name=datetime.today().strftime('%Y-%m-%d')\n",
    "    df.to_excel(f'C:\\\\Users\\\\svnduw\\\\Desktop\\\\Bekbol\\\\Bekbol project\\\\Saat\\\\отчеты\\\\{file_name}.xlsx',index=False)\n",
    "    return 'Done'"
   ]
  },
  {
   "cell_type": "code",
   "execution_count": null,
   "id": "1fc737a0",
   "metadata": {},
   "outputs": [],
   "source": [
    "def get_lira(link):\n",
    "    response=requests.get(link)\n",
    "    soup=BeautifulSoup(response.text,'lxml')\n",
    "    lira=int(round(float(soup.find('p',class_='result__BigRate-sc-1bsijpp-1 iGrAod').text.strip().split()[0]),0))\n",
    "    return lira"
   ]
  },
  {
   "cell_type": "code",
   "execution_count": null,
   "id": "ddf214b9",
   "metadata": {},
   "outputs": [],
   "source": [
    "def resize(image_pil):\n",
    "    image_pil = (Image.open(image_pil, 'r')) \n",
    "    width = 1080\n",
    "    height = 1080\n",
    "\n",
    "    ratio_w = width / image_pil.width\n",
    "    ratio_h = height / image_pil.height\n",
    "    if ratio_w < ratio_h:        \n",
    "        resize_width = width\n",
    "        resize_height = round(ratio_w * image_pil.height)\n",
    "    else:        \n",
    "        resize_width = round(ratio_h * image_pil.width)\n",
    "        resize_height = height\n",
    "    image_resize = image_pil.resize((resize_width, resize_height), Image.ANTIALIAS)\n",
    "    background = Image.new('RGBA', (width, height), (255, 255, 255, 255))\n",
    "    offset = (round((width - resize_width) / 2), round((height - resize_height) / 2))\n",
    "    background.paste(image_resize, offset)\n",
    "    return background.convert('RGB')"
   ]
  },
  {
   "cell_type": "code",
   "execution_count": null,
   "id": "bd454784",
   "metadata": {},
   "outputs": [],
   "source": [
    "def check_url_from_old(file_path,link_file_path):\n",
    "    files=os.listdir(file_path)\n",
    "    df=pd.DataFrame()\n",
    "    for file in files:\n",
    "        temp=pd.read_excel(f'{file_path}//{file}')\n",
    "        df=df.append(temp,ignore_index=True)\n",
    "        new_urls=pd.read_excel(f'{link_file_path}')\n",
    "        new_urls=new_urls[~new_urls['urls'].isin(df.page_link.tolist())]\n",
    "        save_path='\\\\'.join(link_file_path.split('\\\\')[:-1])\n",
    "        new_urls.to_excel(f\"{save_path}\\\\links.xlsx\",index=False)"
   ]
  },
  {
   "cell_type": "code",
   "execution_count": null,
   "id": "391730e5",
   "metadata": {},
   "outputs": [],
   "source": [
    "check_url_from_old(r'C:\\Users\\svnduw\\Desktop\\Bekbol\\Bekbol project\\Saat\\отчеты',r'C:\\Users\\svnduw\\Desktop\\Bekbol\\Bekbol project\\Saat\\links.xlsx')"
   ]
  },
  {
   "cell_type": "code",
   "execution_count": null,
   "id": "edae2999",
   "metadata": {},
   "outputs": [],
   "source": [
    "get_data(r'C:\\Users\\svnduw\\Desktop\\Bekbol\\Bekbol project\\Saat\\links.xlsx')"
   ]
  },
  {
   "cell_type": "code",
   "execution_count": null,
   "id": "864c61df",
   "metadata": {},
   "outputs": [],
   "source": [
    "folder_name=datetime.today().strftime('%Y-%m-%d')\n",
    "parent_dir = r\"C:\\Users\\svnduw\\Desktop\\Bekbol\\Bekbol project\\Saat\"  #save path must be changed\n",
    "new_path = os.path.join(parent_dir, folder_name,'resized')\n",
    "os.makedirs(new_path)\n",
    "old_path='/'.join(new_path.split('\\\\')[:-1])\n",
    "files=os.listdir(old_path)\n",
    "for file in files:\n",
    "    if file.endswith('jpg'):\n",
    "        resize(old_path+'\\\\'+file).save(new_path+'\\\\'+file)"
   ]
  },
  {
   "cell_type": "code",
   "execution_count": null,
   "id": "d17b058a",
   "metadata": {},
   "outputs": [],
   "source": [
    "def post_photos(file_path,image_path):\n",
    "    df=pd.read_excel(file_path)\n",
    "    files=os.listdir(image_path)\n",
    "    Username='qyran_watches'\n",
    "    Password='****'\n",
    "    bot = Client()\n",
    "    bot.login(Username, Password)\n",
    "    for index,row in df.iterrows():\n",
    "        new=[]        \n",
    "        for file in files:\n",
    "            if str(row['image_name'])==str(file.split('_')[0]):\n",
    "                new.append(f'{image_path}\\\\{file}') \n",
    "        if len(new)!=1:\n",
    "            text = '⌚ '+str(row['brand'])+'\\n 🔴 Производство: Турция \\n 💵 Цена: '+str(row['price_insta'])+'\\n ♻️ Для заказа можете написать нам по прямой ссылке в шапке профиля \\n 📲 8 707 946 6496 \\n 💸Предоплата 50% \\n_____________________ \\n Доставка по всему РК\\n_ _ _ _ _ _ _ _ _ _ _ _ _\\n Наши магазины:\\n @ant_wears - интернет-магазин женской (мусульманской) одежды\\n @gstyle_lady - интернет-магазин женской одежды\\n @social_shoe_store - интернет-магазин обуви\\n @aishoes.kz - интернет-магазин женской обуви\\n @ayalin_kids - интернет-магазин детской одежды\\n @ayamin_bags - интернет-магазин люксовых сумок'\n",
    "            \n",
    "            bot.album_upload(\n",
    "            new,\n",
    "            caption = text)\n",
    "        else:\n",
    "            text = '⌚ '+str(row['brand'])+'\\n 🔴 Производство: Турция \\n 💵 Цена: '+str(row['price_insta'])+'\\n ♻️ Для заказа можете написать нам по прямой ссылке в шапке профиля \\n 📲 8 707 946 6496 \\n 💸Предоплата 50% \\n_____________________ \\n Доставка по всему РК\\n_ _ _ _ _ _ _ _ _ _ _ _ _\\n Наши магазины:\\n @ant_wears - интернет-магазин женской (мусульманской) одежды\\n @gstyle_lady - интернет-магазин женской одежды\\n @social_shoe_store - интернет-магазин обуви\\n @aishoes.kz - интернет-магазин женской обуви\\n @ayalin_kids - интернет-магазин детской одежды\\n @ayamin_bags - интернет-магазин люксовых сумок'\n",
    "            \n",
    "            bot.photo_upload(new[0],caption=text)"
   ]
  },
  {
   "cell_type": "code",
   "execution_count": null,
   "id": "a7042019",
   "metadata": {},
   "outputs": [],
   "source": [
    "data=datetime.today().strftime('%Y-%m-%d')\n",
    "post_photos(f'C:\\\\Users\\\\svnduw\\\\Desktop\\\\Bekbol\\\\Bekbol project\\\\Saat\\\\отчеты\\\\{data}.xlsx',f'C:/Users/svnduw/Desktop/Bekbol/Bekbol project/Saat/{data}/resized')"
   ]
  },
  {
   "cell_type": "code",
   "execution_count": null,
   "id": "df6a6adf",
   "metadata": {},
   "outputs": [],
   "source": [
    "def post_stories(image_path):\n",
    "    Username='qyran_watches'\n",
    "    Password='*****'\n",
    "    bot = Client()\n",
    "    bot.login(Username, Password)\n",
    "    files = os.listdir(image_path)\n",
    "    adw0rd = bot.user_info_by_username('qyran_watches')\n",
    "    for file in files:\n",
    "         bot.photo_upload_to_story(image_path+'\\\\'+file,\n",
    "                             \"@qyran_watches\",\n",
    "                             mentions=[StoryMention(user=adw0rd, x=0.49892962, y=0.703125, width=0.8333333333333334, height=0.125)])    "
   ]
  },
  {
   "cell_type": "code",
   "execution_count": null,
   "id": "b895c458",
   "metadata": {},
   "outputs": [],
   "source": [
    "post_stories(f'C:\\\\Users\\\\svnduw\\\\Desktop\\\\Bekbol\\\\Bekbol project\\\\Saat\\\\{data}\\\\resized')\n"
   ]
  },
  {
   "cell_type": "code",
   "execution_count": null,
   "id": "049bcd26",
   "metadata": {},
   "outputs": [],
   "source": []
  }
 ],
 "metadata": {
  "kernelspec": {
   "display_name": "Python 3",
   "language": "python",
   "name": "python3"
  },
  "language_info": {
   "codemirror_mode": {
    "name": "ipython",
    "version": 3
   },
   "file_extension": ".py",
   "mimetype": "text/x-python",
   "name": "python",
   "nbconvert_exporter": "python",
   "pygments_lexer": "ipython3",
   "version": "3.8.8"
  }
 },
 "nbformat": 4,
 "nbformat_minor": 5
}
